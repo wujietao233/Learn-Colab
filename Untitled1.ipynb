{
  "nbformat": 4,
  "nbformat_minor": 0,
  "metadata": {
    "colab": {
      "name": "Untitled1.ipynb",
      "provenance": [],
      "collapsed_sections": [],
      "authorship_tag": "ABX9TyPHOdTr1vAWR+6kz+O9K9mf",
      "include_colab_link": true
    },
    "kernelspec": {
      "name": "python3",
      "display_name": "Python 3"
    },
    "language_info": {
      "name": "python"
    }
  },
  "cells": [
    {
      "cell_type": "markdown",
      "metadata": {
        "id": "view-in-github",
        "colab_type": "text"
      },
      "source": [
        "<a href=\"https://colab.research.google.com/github/wujietao233/Learn-Colab/blob/main/Untitled1.ipynb\" target=\"_parent\"><img src=\"https://colab.research.google.com/assets/colab-badge.svg\" alt=\"Open In Colab\"/></a>"
      ]
    },
    {
      "cell_type": "markdown",
      "source": [
        "这是一段文字\n",
        "\n",
        "这是我在Colab上输入的第一段文字"
      ],
      "metadata": {
        "id": "NLKdN3BYDYha"
      }
    },
    {
      "cell_type": "code",
      "execution_count": null,
      "metadata": {
        "colab": {
          "base_uri": "https://localhost:8080/"
        },
        "id": "fCHbkP-mDPFY",
        "outputId": "c53d4500-df59-4393-e60b-09acb5e49f39"
      },
      "outputs": [
        {
          "output_type": "stream",
          "name": "stdout",
          "text": [
            "1*1=1\t\n",
            "1*2=2\t2*2=4\t\n",
            "1*3=3\t2*3=6\t3*3=9\t\n",
            "1*4=4\t2*4=8\t3*4=12\t4*4=16\t\n",
            "1*5=5\t2*5=10\t3*5=15\t4*5=20\t5*5=25\t\n",
            "1*6=6\t2*6=12\t3*6=18\t4*6=24\t5*6=30\t6*6=36\t\n",
            "1*7=7\t2*7=14\t3*7=21\t4*7=28\t5*7=35\t6*7=42\t7*7=49\t\n",
            "1*8=8\t2*8=16\t3*8=24\t4*8=32\t5*8=40\t6*8=48\t7*8=56\t8*8=64\t\n",
            "1*9=9\t2*9=18\t3*9=27\t4*9=36\t5*9=45\t6*9=54\t7*9=63\t8*9=72\t9*9=81\t\n"
          ]
        }
      ],
      "source": [
        "for i in range(9):\n",
        "  for j in range(i+1):\n",
        "    print(\"{0}*{1}={2}\".format(j+1,i+1,(i+1)*(j+1)),end='\\t')\n",
        "  print()"
      ]
    },
    {
      "cell_type": "markdown",
      "source": [
        "我准备跑一下AI的代码，先试试MNIST手写数字集\n",
        "\n",
        "导入头文件"
      ],
      "metadata": {
        "id": "CLW75vx_FVP8"
      }
    },
    {
      "cell_type": "code",
      "source": [
        "# 1.头文件\n",
        "from tensorflow.keras.datasets import mnist\n",
        "from matplotlib import pyplot as plt\n",
        "import numpy as np\n",
        "import tensorflow as tf"
      ],
      "metadata": {
        "id": "OCYoMYiRGoek"
      },
      "execution_count": 3,
      "outputs": []
    },
    {
      "cell_type": "markdown",
      "source": [
        "读取数据集"
      ],
      "metadata": {
        "id": "iKLNeM9rIefm"
      }
    },
    {
      "cell_type": "code",
      "source": [
        "# 2.数据集\n",
        "(x_train,y_train),(x_test, y_test) = mnist.load_data()\n",
        "\n",
        "# 查看数据集形状\n",
        "print('''The Shape:\n",
        "x_train:{0}\n",
        "y_train:{1}\n",
        "x_test:{2}\n",
        "y_test:{3}\n",
        "'''.format(x_train.shape,y_train.shape,x_test.shape,y_test.shape))\n",
        "\n",
        "# 查看数据图\n",
        "plt.imshow(x_train[0])\n",
        "plt.show()\n",
        "plt.imshow(x_train[1],cmap='Greys')\n",
        "plt.show()"
      ],
      "metadata": {
        "colab": {
          "base_uri": "https://localhost:8080/",
          "height": 621
        },
        "id": "dxF_IDS6If_3",
        "outputId": "402ce458-e786-45ff-f0c2-bf357c79979a"
      },
      "execution_count": 16,
      "outputs": [
        {
          "output_type": "stream",
          "name": "stdout",
          "text": [
            "The Shape:\n",
            "x_train:(60000, 28, 28)\n",
            "y_train:(60000,)\n",
            "x_test:(10000, 28, 28)\n",
            "y_test:(10000,)\n",
            "\n"
          ]
        },
        {
          "output_type": "display_data",
          "data": {
            "text/plain": [
              "<Figure size 432x288 with 1 Axes>"
            ],
            "image/png": "[encoded data removed]"
          },
          "metadata": {
            "needs_background": "light"
          }
        },
        {
          "output_type": "display_data",
          "data": {
            "text/plain": [
              "<Figure size 432x288 with 1 Axes>"
            ],
            "image/png": "[encoded data removed]"
          },
          "metadata": {
            "needs_background": "light"
          }
        }
      ]
    }
  ]
}